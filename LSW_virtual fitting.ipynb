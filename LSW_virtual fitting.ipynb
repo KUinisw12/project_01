{
 "nbformat": 4,
 "nbformat_minor": 0,
 "metadata": {
  "colab": {
   "provenance": []
  },
  "kernelspec": {
   "name": "python3",
   "display_name": "Python 3"
  },
  "accelerator": "GPU",
  "gpuClass": "standard"
 },
 "cells": [
  {
   "cell_type": "markdown",
   "metadata": {
    "id": "7WJtP2PfBcPN",
    "pycharm": {
     "name": "#%% md\n"
    }
   },
   "source": [
    "## ACGPN\n",
    "\n",
    "- Original: https://github.com/levindabhi/ACGPN.git\n",
    "- Modified: https://github.com/kairess/ACGPN.git"
   ]
  },
  {
   "cell_type": "code",
   "source": [
    "from google.colab import drive\n",
    "drive.mount('/content/drive')"
   ],
   "metadata": {
    "id": "ovFgPcLNEmop",
    "pycharm": {
     "name": "#%%\n"
    }
   },
   "execution_count": null,
   "outputs": []
  },
  {
   "cell_type": "code",
   "metadata": {
    "id": "GVm5QFBMDBbT",
    "colab": {
     "base_uri": "https://localhost:8080/"
    },
    "outputId": "d1add074-76f7-4d0f-f2d2-795118e0af9e",
    "pycharm": {
     "name": "#%%\n"
    }
   },
   "source": [
    "!git clone https://github.com/kairess/ACGPN.git\n",
    "%cd ACGPN"
   ],
   "execution_count": 1,
   "outputs": [
    {
     "output_type": "stream",
     "name": "stdout",
     "text": [
      "Cloning into 'ACGPN'...\n",
      "remote: Enumerating objects: 165, done.\u001B[K\n",
      "remote: Counting objects: 100% (24/24), done.\u001B[K\n",
      "remote: Compressing objects: 100% (6/6), done.\u001B[K\n",
      "remote: Total 165 (delta 21), reused 19 (delta 18), pack-reused 141\u001B[K\n",
      "Receiving objects: 100% (165/165), 303.15 KiB | 21.65 MiB/s, done.\n",
      "Resolving deltas: 100% (62/62), done.\n",
      "/content/ACGPN\n"
     ]
    }
   ]
  },
  {
   "cell_type": "markdown",
   "source": [
    "## Dependencies"
   ],
   "metadata": {
    "id": "-nBzTaWmcTK9",
    "pycharm": {
     "name": "#%% md\n"
    }
   }
  },
  {
   "cell_type": "code",
   "source": [
    "!pip install -U --no-cache-dir gdown --pre -qq\n",
    "!pip install ninja -qq"
   ],
   "metadata": {
    "colab": {
     "base_uri": "https://localhost:8080/"
    },
    "id": "GEj3cTepGTcc",
    "outputId": "1887f6d9-b6b6-4e8b-866f-c4b2252e4808",
    "pycharm": {
     "name": "#%%\n"
    }
   },
   "execution_count": 2,
   "outputs": [
    {
     "output_type": "stream",
     "name": "stdout",
     "text": [
      "\u001B[?25l\r\u001B[K     |██▎                             | 10 kB 35.3 MB/s eta 0:00:01\r\u001B[K     |████▌                           | 20 kB 39.6 MB/s eta 0:00:01\r\u001B[K     |██████▊                         | 30 kB 45.8 MB/s eta 0:00:01\r\u001B[K     |█████████                       | 40 kB 22.6 MB/s eta 0:00:01\r\u001B[K     |███████████▎                    | 51 kB 26.0 MB/s eta 0:00:01\r\u001B[K     |█████████████▌                  | 61 kB 29.6 MB/s eta 0:00:01\r\u001B[K     |███████████████▊                | 71 kB 27.3 MB/s eta 0:00:01\r\u001B[K     |██████████████████              | 81 kB 29.5 MB/s eta 0:00:01\r\u001B[K     |████████████████████▏           | 92 kB 31.7 MB/s eta 0:00:01\r\u001B[K     |██████████████████████▌         | 102 kB 31.7 MB/s eta 0:00:01\r\u001B[K     |████████████████████████▊       | 112 kB 31.7 MB/s eta 0:00:01\r\u001B[K     |███████████████████████████     | 122 kB 31.7 MB/s eta 0:00:01\r\u001B[K     |█████████████████████████████▏  | 133 kB 31.7 MB/s eta 0:00:01\r\u001B[K     |███████████████████████████████▍| 143 kB 31.7 MB/s eta 0:00:01\r\u001B[K     |████████████████████████████████| 145 kB 31.7 MB/s \n",
      "\u001B[?25h"
     ]
    }
   ]
  },
  {
   "cell_type": "code",
   "metadata": {
    "id": "xQwI--uhoH6R",
    "pycharm": {
     "name": "#%%\n"
    }
   },
   "source": [
    "import gdown\n",
    "import numpy as np\n",
    "from PIL import Image\n",
    "import IPython\n",
    "import gdown\n",
    "import os\n",
    "import sys\n",
    "import time\n",
    "\n",
    "from predict_pose import generate_pose_keypoints"
   ],
   "execution_count": 3,
   "outputs": []
  },
  {
   "cell_type": "code",
   "metadata": {
    "id": "86Ll7LIW1kGw",
    "pycharm": {
     "name": "#%%\n"
    }
   },
   "source": [
    "!mkdir Data_preprocessing/test_color\n",
    "!mkdir Data_preprocessing/test_colormask\n",
    "!mkdir Data_preprocessing/test_edge\n",
    "!mkdir Data_preprocessing/test_img\n",
    "!mkdir Data_preprocessing/test_label\n",
    "!mkdir Data_preprocessing/test_mask\n",
    "!mkdir Data_preprocessing/test_pose\n",
    "!mkdir inputs\n",
    "!mkdir inputs/img\n",
    "!mkdir inputs/cloth"
   ],
   "execution_count": 4,
   "outputs": []
  },
  {
   "cell_type": "code",
   "metadata": {
    "id": "HbGDB31KrKHV",
    "colab": {
     "base_uri": "https://localhost:8080/"
    },
    "outputId": "25d7eaa6-70dc-4c18-aee2-0e6ad06a37fd",
    "pycharm": {
     "name": "#%%\n"
    }
   },
   "source": [
    "!git clone https://github.com/levindabhi/Self-Correction-Human-Parsing-for-ACGPN.git\n",
    "!git clone https://github.com/levindabhi/U-2-Net.git"
   ],
   "execution_count": 5,
   "outputs": [
    {
     "output_type": "stream",
     "name": "stdout",
     "text": [
      "Cloning into 'Self-Correction-Human-Parsing-for-ACGPN'...\n",
      "remote: Enumerating objects: 769, done.\u001B[K\n",
      "remote: Counting objects: 100% (99/99), done.\u001B[K\n",
      "remote: Compressing objects: 100% (37/37), done.\u001B[K\n",
      "remote: Total 769 (delta 71), reused 62 (delta 62), pack-reused 670\u001B[K\n",
      "Receiving objects: 100% (769/769), 3.80 MiB | 24.01 MiB/s, done.\n",
      "Resolving deltas: 100% (188/188), done.\n",
      "Cloning into 'U-2-Net'...\n",
      "remote: Enumerating objects: 822, done.\u001B[K\n",
      "remote: Total 822 (delta 0), reused 0 (delta 0), pack-reused 822\u001B[K\n",
      "Receiving objects: 100% (822/822), 30.72 MiB | 16.86 MiB/s, done.\n",
      "Resolving deltas: 100% (379/379), done.\n"
     ]
    }
   ]
  },
  {
   "cell_type": "markdown",
   "source": [
    "## 사전학습 모델 다운로드"
   ],
   "metadata": {
    "id": "vCjptBAJiGrI",
    "pycharm": {
     "name": "#%% md\n"
    }
   }
  },
  {
   "cell_type": "markdown",
   "source": [
    "### 포즈 예측 모델"
   ],
   "metadata": {
    "id": "5XNAZwQziKHe",
    "pycharm": {
     "name": "#%% md\n"
    }
   }
  },
  {
   "cell_type": "code",
   "metadata": {
    "id": "K8hYM6XqCnxC",
    "colab": {
     "base_uri": "https://localhost:8080/"
    },
    "outputId": "23213134-2228-4691-8d78-f7c7697bac21",
    "pycharm": {
     "name": "#%%\n"
    }
   },
   "source": [
    "!gdown 1hOHMFHEjhoJuLEQY0Ndurn5hfiA9mwko -O pose/pose_iter_440000.caffemodel"
   ],
   "execution_count": 6,
   "outputs": [
    {
     "output_type": "stream",
     "name": "stdout",
     "text": [
      "Downloading...\n",
      "From: https://drive.google.com/uc?id=1hOHMFHEjhoJuLEQY0Ndurn5hfiA9mwko\n",
      "To: /content/ACGPN/pose/pose_iter_440000.caffemodel\n",
      "100% 209M/209M [00:01<00:00, 141MB/s]\n"
     ]
    }
   ]
  },
  {
   "cell_type": "markdown",
   "source": [
    "### 휴먼 세그멘테이션 마스크 생성 모델"
   ],
   "metadata": {
    "id": "FHHxH87diN7D",
    "pycharm": {
     "name": "#%% md\n"
    }
   }
  },
  {
   "cell_type": "code",
   "metadata": {
    "id": "3hSJI347rZtQ",
    "colab": {
     "base_uri": "https://localhost:8080/",
     "height": 110
    },
    "outputId": "8c5dd720-61be-4a61-f9d7-b7e18cf87916",
    "pycharm": {
     "name": "#%%\n"
    }
   },
   "source": [
    "gdown.download('https://drive.google.com/uc?id=1k4dllHpu0bdx38J7H28rVVLpU-kOHmnH', 'lip_final.pth', quiet=False)"
   ],
   "execution_count": 7,
   "outputs": [
    {
     "output_type": "stream",
     "name": "stderr",
     "text": [
      "Downloading...\n",
      "From: https://drive.google.com/uc?id=1k4dllHpu0bdx38J7H28rVVLpU-kOHmnH\n",
      "To: /content/ACGPN/lip_final.pth\n",
      "100%|██████████| 267M/267M [00:02<00:00, 116MB/s] \n"
     ]
    },
    {
     "output_type": "execute_result",
     "data": {
      "text/plain": [
       "'lip_final.pth'"
      ],
      "application/vnd.google.colaboratory.intrinsic+json": {
       "type": "string"
      }
     },
     "metadata": {},
     "execution_count": 7
    }
   ]
  },
  {
   "cell_type": "markdown",
   "source": [
    "### U2Net 모델\n",
    "\n",
    "옷 마스크 추출 모델"
   ],
   "metadata": {
    "id": "QhpO0t1wio9_",
    "pycharm": {
     "name": "#%% md\n"
    }
   }
  },
  {
   "cell_type": "code",
   "metadata": {
    "id": "vzy8poZT6pcU",
    "colab": {
     "base_uri": "https://localhost:8080/"
    },
    "outputId": "7ad72179-ae64-405a-f394-cfddc730251e",
    "pycharm": {
     "name": "#%%\n"
    }
   },
   "source": [
    "%cd U-2-Net\n",
    "!mkdir saved_models\n",
    "!mkdir saved_models/u2net\n",
    "!mkdir saved_models/u2netp\n",
    "\n",
    "!gdown 1rbSTGKAE-MTxBYHd-51l2hMOQPT_7EPy -O saved_models/u2netp/u2netp.pth\n",
    "!gdown 1ao1ovG1Qtx4b7EoskHXmi2E9rp5CHLcZ -O saved_models/u2net/u2net.pth\n",
    "\n",
    "import u2net_load\n",
    "import u2net_run\n",
    "\n",
    "u2net = u2net_load.model(model_name='u2netp')\n",
    "\n",
    "%cd .."
   ],
   "execution_count": 8,
   "outputs": [
    {
     "output_type": "stream",
     "name": "stdout",
     "text": [
      "/content/ACGPN/U-2-Net\n",
      "mkdir: cannot create directory ‘saved_models’: File exists\n",
      "Downloading...\n",
      "From: https://drive.google.com/uc?id=1rbSTGKAE-MTxBYHd-51l2hMOQPT_7EPy\n",
      "To: /content/ACGPN/U-2-Net/saved_models/u2netp/u2netp.pth\n",
      "100% 4.68M/4.68M [00:00<00:00, 201MB/s]\n",
      "Downloading...\n",
      "From: https://drive.google.com/uc?id=1ao1ovG1Qtx4b7EoskHXmi2E9rp5CHLcZ\n",
      "To: /content/ACGPN/U-2-Net/saved_models/u2net/u2net.pth\n",
      "100% 176M/176M [00:03<00:00, 56.8MB/s]\n",
      "...load U2NEP---4.7 MB\n",
      "/content/ACGPN\n"
     ]
    }
   ]
  },
  {
   "cell_type": "markdown",
   "source": [
    "### ACGPN 모델"
   ],
   "metadata": {
    "id": "5ycY0WVmjD_f",
    "pycharm": {
     "name": "#%% md\n"
    }
   }
  },
  {
   "cell_type": "code",
   "metadata": {
    "id": "r1VknOqswSTW",
    "colab": {
     "base_uri": "https://localhost:8080/"
    },
    "outputId": "c430fdbb-ef09-40b9-9b4a-665a5cb43569",
    "pycharm": {
     "name": "#%%\n"
    }
   },
   "source": [
    "!mkdir checkpoints\n",
    "\n",
    "gdown.download('https://drive.google.com/uc?id=1UWT6esQIU_d4tUm8cjxDKMhB8joQbrFx', output='checkpoints/ACGPN_checkpoints.zip', quiet=False)\n",
    "\n",
    "!unzip checkpoints/ACGPN_checkpoints.zip -d checkpoints"
   ],
   "execution_count": 9,
   "outputs": [
    {
     "output_type": "stream",
     "name": "stderr",
     "text": [
      "Downloading...\n",
      "From: https://drive.google.com/uc?id=1UWT6esQIU_d4tUm8cjxDKMhB8joQbrFx\n",
      "To: /content/ACGPN/checkpoints/ACGPN_checkpoints.zip\n",
      "100%|██████████| 524M/524M [00:06<00:00, 78.2MB/s]\n"
     ]
    },
    {
     "output_type": "stream",
     "name": "stdout",
     "text": [
      "Archive:  checkpoints/ACGPN_checkpoints.zip\n",
      "   creating: checkpoints/label2city/\n",
      "  inflating: checkpoints/label2city/latest_net_G.pth  \n",
      "  inflating: checkpoints/label2city/latest_net_G1.pth  \n",
      "  inflating: checkpoints/label2city/latest_net_G2.pth  \n",
      "  inflating: checkpoints/label2city/latest_net_U.pth  \n",
      "  inflating: checkpoints/label2city/opt.txt  \n"
     ]
    }
   ]
  },
  {
   "cell_type": "markdown",
   "source": [
    "## 전처리"
   ],
   "metadata": {
    "id": "r3jABay-kHWy",
    "pycharm": {
     "name": "#%% md\n"
    }
   }
  },
  {
   "cell_type": "markdown",
   "source": [
    "### 옷 마스크 추출"
   ],
   "metadata": {
    "id": "9tqSGFNBhj9k",
    "pycharm": {
     "name": "#%% md\n"
    }
   }
  },
  {
   "cell_type": "code",
   "metadata": {
    "id": "hBXPbfF5XYRB",
    "colab": {
     "base_uri": "https://localhost:8080/",
     "height": 36
    },
    "outputId": "afe1a6d8-9262-422e-8a4e-62881ceab5c8",
    "pycharm": {
     "name": "#%%\n"
    }
   },
   "source": [
    "sorted(os.listdir('inputs/cloth'))[0]"
   ],
   "execution_count": 11,
   "outputs": [
    {
     "output_type": "execute_result",
     "data": {
      "text/plain": [
       "'000812_1.jpg'"
      ],
      "application/vnd.google.colaboratory.intrinsic+json": {
       "type": "string"
      }
     },
     "metadata": {},
     "execution_count": 11
    }
   ]
  },
  {
   "cell_type": "code",
   "source": [
    "jpg1 = os.listdir('/content/ACGPN/inputs/cloth')"
   ],
   "metadata": {
    "id": "eHT9h3j_XL21",
    "pycharm": {
     "name": "#%%\n"
    }
   },
   "execution_count": 13,
   "outputs": []
  },
  {
   "cell_type": "code",
   "source": [
    "os.chdir('/content/ACGPN')"
   ],
   "metadata": {
    "id": "G_vK5Q_qFzvh",
    "pycharm": {
     "name": "#%%\n"
    }
   },
   "execution_count": 19,
   "outputs": []
  },
  {
   "cell_type": "code",
   "metadata": {
    "id": "Tm-9Up6z0Zpg",
    "colab": {
     "base_uri": "https://localhost:8080/",
     "height": 310
    },
    "outputId": "b3fb258d-bda9-43e0-bffd-4e6377c838d4",
    "pycharm": {
     "name": "#%%\n"
    }
   },
   "source": [
    "cloth_name = f'cloth_{int(time.time())}.png'\n",
    "\n",
    "cloth_path = os.path.join('inputs/cloth', sorted(os.listdir('inputs/cloth'))[0])\n",
    "cloth = Image.open('/content/ACGPN/inputs/cloth/000812_1.jpg')\n",
    "cloth = cloth.resize((192, 256), Image.BICUBIC).convert('RGB')\n",
    "cloth.save(os.path.join('Data_preprocessing/test_color', cloth_name))\n",
    "\n",
    "u2net_run.infer(u2net, 'Data_preprocessing/test_color', 'Data_preprocessing/test_edge')\n",
    "\n",
    "Image.open(f'Data_preprocessing/test_edge/{cloth_name}')"
   ],
   "execution_count": 10,
   "outputs": [
    {
     "output_type": "stream",
     "name": "stdout",
     "text": [
      "Generating mask for: cloth_1671271699.png\n",
      "Saving output at Data_preprocessing/test_edge/cloth_1671271699.png\n"
     ]
    },
    {
     "output_type": "execute_result",
     "data": {
      "text/plain": [
       "<PIL.PngImagePlugin.PngImageFile image mode=RGB size=192x256 at 0x7FBBF2C33BB0>"
      ],
      "image/png": "[encoded data removed]"
     },
     "metadata": {},
     "execution_count": 10
    }
   ]
  },
  {
   "cell_type": "markdown",
   "source": [
    "### 모델 포즈, 세그멘테이션"
   ],
   "metadata": {
    "id": "N7WqDchhhgVO",
    "pycharm": {
     "name": "#%% md\n"
    }
   }
  },
  {
   "cell_type": "code",
   "metadata": {
    "id": "tj8vmpyXX0tx",
    "colab": {
     "base_uri": "https://localhost:8080/"
    },
    "outputId": "5baa8fdd-83af-4834-8f5d-0bca6271a457",
    "pycharm": {
     "name": "#%%\n"
    }
   },
   "source": [
    "sorted(os.listdir('inputs/img'))"
   ],
   "execution_count": 26,
   "outputs": [
    {
     "output_type": "execute_result",
     "data": {
      "text/plain": [
       "['000501_0.jpg',\n",
       " '000514_0.jpg',\n",
       " '000523_0.jpg',\n",
       " '000532_0.jpg',\n",
       " '스크린샷_20221217_042918.png']"
      ]
     },
     "metadata": {},
     "execution_count": 26
    }
   ]
  },
  {
   "cell_type": "code",
   "metadata": {
    "id": "Y3aHah45D655",
    "colab": {
     "base_uri": "https://localhost:8080/"
    },
    "outputId": "a4994320-631d-42ec-e028-c5fef3f3509c",
    "pycharm": {
     "name": "#%%\n"
    }
   },
   "source": [
    "img_name = f'img_{int(time.time())}.png'\n",
    "\n",
    "img_path = os.path.join('inputs/img', sorted(os.listdir('inputs/img'))[0])\n",
    "img = Image.open('/content/ACGPN/inputs/img/스크린샷_20221217_065822.png')\n",
    "img = img.resize((192,256), Image.BICUBIC)\n",
    "\n",
    "img_path = os.path.join('Data_preprocessing/test_img', img_name)\n",
    "img.save(img_path)\n",
    "\n",
    "!python3 Self-Correction-Human-Parsing-for-ACGPN/simple_extractor.py --dataset 'lip' --model-restore 'lip_final.pth' --input-dir 'Data_preprocessing/test_img' --output-dir 'Data_preprocessing/test_label'\n",
    "\n",
    "pose_path = os.path.join('Data_preprocessing/test_pose', img_name.replace('.png', '_keypoints.json'))\n",
    "generate_pose_keypoints(img_path, pose_path)"
   ],
   "execution_count": 11,
   "outputs": [
    {
     "output_type": "stream",
     "name": "stdout",
     "text": [
      "100% 1/1 [00:01<00:00,  1.71s/it]\n",
      "File saved at Data_preprocessing/test_pose/img_1671271729_keypoints.json\n"
     ]
    }
   ]
  },
  {
   "cell_type": "markdown",
   "source": [
    "## 추론"
   ],
   "metadata": {
    "id": "SdbIgthWkJFK",
    "pycharm": {
     "name": "#%% md\n"
    }
   }
  },
  {
   "cell_type": "code",
   "metadata": {
    "id": "EgMi912KAUNs",
    "pycharm": {
     "name": "#%%\n"
    }
   },
   "source": [
    "!rm -rf Data_preprocessing/test_pairs.txt\n",
    "with open('Data_preprocessing/test_pairs.txt', 'w') as f:\n",
    "    f.write(f'{img_name} {cloth_name}')"
   ],
   "execution_count": 12,
   "outputs": []
  },
  {
   "cell_type": "code",
   "source": [
    "%cd /content/ACGPN"
   ],
   "metadata": {
    "colab": {
     "base_uri": "https://localhost:8080/"
    },
    "id": "SdFes2BVZgyT",
    "outputId": "af3f896b-aaf0-4202-bba6-a8e04a3270cb",
    "pycharm": {
     "name": "#%%\n"
    }
   },
   "execution_count": 13,
   "outputs": [
    {
     "output_type": "stream",
     "name": "stdout",
     "text": [
      "/content/ACGPN\n"
     ]
    }
   ]
  },
  {
   "cell_type": "code",
   "metadata": {
    "id": "EIcoP4ll14Ia",
    "colab": {
     "base_uri": "https://localhost:8080/"
    },
    "outputId": "b8d6647a-32bf-4f47-bd3f-859eea21a426",
    "pycharm": {
     "name": "#%%\n"
    }
   },
   "source": [
    "!python test.py"
   ],
   "execution_count": 14,
   "outputs": [
    {
     "output_type": "stream",
     "name": "stdout",
     "text": [
      "?\n",
      "------------ Options -------------\n",
      "aspect_ratio: 1.0\n",
      "batchSize: 1\n",
      "checkpoints_dir: ./checkpoints\n",
      "cluster_path: features_clustered_010.npy\n",
      "continue_train: False\n",
      "data_type: 32\n",
      "datapairs: test_pairs.txt\n",
      "dataroot: Data_preprocessing/\n",
      "display_winsize: 512\n",
      "engine: None\n",
      "export_onnx: None\n",
      "fineSize: 512\n",
      "gpu_ids: [0]\n",
      "how_many: 1000\n",
      "input_nc: 3\n",
      "isTrain: False\n",
      "label_nc: 20\n",
      "loadSize: 512\n",
      "max_dataset_size: inf\n",
      "model: pix2pixHD\n",
      "nThreads: 1\n",
      "n_blocks_global: 4\n",
      "n_blocks_local: 3\n",
      "n_downsample_global: 4\n",
      "n_local_enhancers: 1\n",
      "name: label2city\n",
      "netG: global\n",
      "ngf: 64\n",
      "niter_fix_global: 0\n",
      "no_flip: False\n",
      "norm: instance\n",
      "ntest: inf\n",
      "onnx: None\n",
      "output_nc: 3\n",
      "phase: test\n",
      "resize_or_crop: scale_width\n",
      "results_dir: ./results/\n",
      "serial_batches: True\n",
      "tf_log: False\n",
      "use_dropout: False\n",
      "use_encoded_image: False\n",
      "verbose: False\n",
      "which_epoch: latest\n",
      "-------------- End ----------------\n",
      "CustomDatasetDataLoader\n",
      "dataset [AlignedDataset] was created\n",
      "Data_preprocessing/test_label label\n",
      "Data_preprocessing/test_img img\n",
      "Data_preprocessing/test_edge edge\n",
      "Data_preprocessing/test_edge edge\n",
      "Data_preprocessing/test_mask mask\n",
      "Data_preprocessing/test_mask mask\n",
      "Data_preprocessing/test_colormask colormask\n",
      "Data_preprocessing/test_colormask colormask\n",
      "Data_preprocessing/test_color color\n",
      "Data_preprocessing/test_color color\n",
      "# Inference images = 1\n",
      "latest_net_U.pth\n",
      "latest_net_G1.pth\n",
      "latest_net_G2.pth\n",
      "latest_net_G.pth\n",
      "/usr/local/lib/python3.8/dist-packages/torchvision/transforms/transforms.py:329: UserWarning: Argument 'interpolation' of type int is deprecated since 0.13 and will be removed in 0.15. Please use InterpolationMode enum.\n",
      "  warnings.warn(\n",
      "test.py:90: DeprecationWarning: `np.float` is a deprecated alias for the builtin `float`. To silence this warning, use `float` by itself. Doing this will not modify any behavior and is safe. If you specifically wanted the numpy scalar type, use `np.float64` here.\n",
      "Deprecated in NumPy 1.20; for more details and guidance: https://numpy.org/devdocs/release/1.20.0-notes.html#deprecations\n",
      "  (data['label'].cpu().numpy() == 7).astype(np.float))\n",
      "test.py:94: DeprecationWarning: `np.int` is a deprecated alias for the builtin `int`. To silence this warning, use `int` by itself. Doing this will not modify any behavior and is safe. When replacing `np.int`, you may wish to use e.g. `np.int64` or `np.int32` to specify the precision. If you wish to review your current use, check the release note link for additional information.\n",
      "Deprecated in NumPy 1.20; for more details and guidance: https://numpy.org/devdocs/release/1.20.0-notes.html#deprecations\n",
      "  (data['label'].cpu().numpy() == 4).astype(np.int))\n",
      "test.py:96: DeprecationWarning: `np.int` is a deprecated alias for the builtin `int`. To silence this warning, use `int` by itself. Doing this will not modify any behavior and is safe. When replacing `np.int`, you may wish to use e.g. `np.int64` or `np.int32` to specify the precision. If you wish to review your current use, check the release note link for additional information.\n",
      "Deprecated in NumPy 1.20; for more details and guidance: https://numpy.org/devdocs/release/1.20.0-notes.html#deprecations\n",
      "  (data['label'].cpu().numpy() > 0).astype(np.int))\n",
      "test.py:65: DeprecationWarning: `np.int` is a deprecated alias for the builtin `int`. To silence this warning, use `int` by itself. Doing this will not modify any behavior and is safe. When replacing `np.int`, you may wish to use e.g. `np.int64` or `np.int32` to specify the precision. If you wish to review your current use, check the release note link for additional information.\n",
      "Deprecated in NumPy 1.20; for more details and guidance: https://numpy.org/devdocs/release/1.20.0-notes.html#deprecations\n",
      "  arm1 = torch.FloatTensor((old_label.cpu().numpy() == 11).astype(np.int))\n",
      "test.py:66: DeprecationWarning: `np.int` is a deprecated alias for the builtin `int`. To silence this warning, use `int` by itself. Doing this will not modify any behavior and is safe. When replacing `np.int`, you may wish to use e.g. `np.int64` or `np.int32` to specify the precision. If you wish to review your current use, check the release note link for additional information.\n",
      "Deprecated in NumPy 1.20; for more details and guidance: https://numpy.org/devdocs/release/1.20.0-notes.html#deprecations\n",
      "  arm2 = torch.FloatTensor((old_label.cpu().numpy() == 13).astype(np.int))\n",
      "test.py:67: DeprecationWarning: `np.int` is a deprecated alias for the builtin `int`. To silence this warning, use `int` by itself. Doing this will not modify any behavior and is safe. When replacing `np.int`, you may wish to use e.g. `np.int64` or `np.int32` to specify the precision. If you wish to review your current use, check the release note link for additional information.\n",
      "Deprecated in NumPy 1.20; for more details and guidance: https://numpy.org/devdocs/release/1.20.0-notes.html#deprecations\n",
      "  noise = torch.FloatTensor((old_label.cpu().numpy() == 7).astype(np.int))\n",
      "/usr/local/lib/python3.8/dist-packages/torch/nn/functional.py:1956: UserWarning: nn.functional.tanh is deprecated. Use torch.tanh instead.\n",
      "  warnings.warn(\"nn.functional.tanh is deprecated. Use torch.tanh instead.\")\n",
      "/usr/local/lib/python3.8/dist-packages/torch/nn/functional.py:4227: UserWarning: Default grid_sample and affine_grid behavior has changed to align_corners=False since 1.3.0. Please specify align_corners=True if the old behavior is desired. See the documentation of grid_sample for details.\n",
      "  warnings.warn(\n",
      "Saving img_1671271729.png\n"
     ]
    }
   ]
  },
  {
   "cell_type": "markdown",
   "source": [
    "## 결과"
   ],
   "metadata": {
    "id": "IrPaN8nYlnYc",
    "pycharm": {
     "name": "#%% md\n"
    }
   }
  },
  {
   "cell_type": "code",
   "metadata": {
    "id": "f5FWfCeyJ8VL",
    "colab": {
     "base_uri": "https://localhost:8080/",
     "height": 307
    },
    "outputId": "7f4e9d48-de93-4bcd-f411-f909927261ff",
    "pycharm": {
     "name": "#%%\n",
     "is_executing": true
    }
   },
   "source": [
    "output_grid = np.concatenate([\n",
    "    np.array(Image.open(f'Data_preprocessing/test_img/{img_name}')),\n",
    "    np.array(Image.open(f'Data_preprocessing/test_color/{cloth_name}')),\n",
    "    np.array(Image.open(f'results/test/try-on/{img_name}'))\n",
    "], axis=1)\n",
    "\n",
    "image_grid = Image.fromarray(output_grid)\n",
    "\n",
    "image_grid"
   ],
   "execution_count": null,
   "outputs": []
  },
  {
   "cell_type": "code",
   "source": [
    "import numpy as np\n",
    "\n",
    "a = np.array(Image.open(f'Data_preprocessing/test_img/{img_name}'))\n",
    "np.delete(a,-1)\n",
    "b = np.array(Image.open(f'Data_preprocessing/test_color/{cloth_name}'))\n",
    "c = np.array(Image.open(f'results/test/try-on/{img_name}'))\n",
    "# output_grid = np.concatenate((a, b,c))\n",
    "# image_grid = Image.fromarray(output_grid)\n",
    "# image_grid"
   ],
   "metadata": {
    "id": "Wq0TzJAIliUk",
    "colab": {
     "base_uri": "https://localhost:8080/",
     "height": 381
    },
    "outputId": "d69b262d-0ad5-44a5-abe0-512e39871bef",
    "pycharm": {
     "name": "#%%\n"
    }
   },
   "execution_count": 43,
   "outputs": [
    {
     "output_type": "error",
     "ename": "FileNotFoundError",
     "evalue": "ignored",
     "traceback": [
      "\u001B[0;31m---------------------------------------------------------------------------\u001B[0m",
      "\u001B[0;31mFileNotFoundError\u001B[0m                         Traceback (most recent call last)",
      "\u001B[0;32m<ipython-input-43-188ae7f4aa6d>\u001B[0m in \u001B[0;36m<module>\u001B[0;34m\u001B[0m\n\u001B[1;32m      4\u001B[0m \u001B[0mnp\u001B[0m\u001B[0;34m.\u001B[0m\u001B[0mdelete\u001B[0m\u001B[0;34m(\u001B[0m\u001B[0ma\u001B[0m\u001B[0;34m,\u001B[0m\u001B[0;34m-\u001B[0m\u001B[0;36m1\u001B[0m\u001B[0;34m)\u001B[0m\u001B[0;34m\u001B[0m\u001B[0;34m\u001B[0m\u001B[0m\n\u001B[1;32m      5\u001B[0m \u001B[0mb\u001B[0m \u001B[0;34m=\u001B[0m \u001B[0mnp\u001B[0m\u001B[0;34m.\u001B[0m\u001B[0marray\u001B[0m\u001B[0;34m(\u001B[0m\u001B[0mImage\u001B[0m\u001B[0;34m.\u001B[0m\u001B[0mopen\u001B[0m\u001B[0;34m(\u001B[0m\u001B[0;34mf'Data_preprocessing/test_color/{cloth_name}'\u001B[0m\u001B[0;34m)\u001B[0m\u001B[0;34m)\u001B[0m\u001B[0;34m\u001B[0m\u001B[0;34m\u001B[0m\u001B[0m\n\u001B[0;32m----> 6\u001B[0;31m \u001B[0mc\u001B[0m \u001B[0;34m=\u001B[0m \u001B[0mnp\u001B[0m\u001B[0;34m.\u001B[0m\u001B[0marray\u001B[0m\u001B[0;34m(\u001B[0m\u001B[0mImage\u001B[0m\u001B[0;34m.\u001B[0m\u001B[0mopen\u001B[0m\u001B[0;34m(\u001B[0m\u001B[0;34mf'results/test/try-on/{img_name}'\u001B[0m\u001B[0;34m)\u001B[0m\u001B[0;34m)\u001B[0m\u001B[0;34m\u001B[0m\u001B[0;34m\u001B[0m\u001B[0m\n\u001B[0m\u001B[1;32m      7\u001B[0m \u001B[0;31m# output_grid = np.concatenate((a, b,c))\u001B[0m\u001B[0;34m\u001B[0m\u001B[0;34m\u001B[0m\u001B[0;34m\u001B[0m\u001B[0m\n\u001B[1;32m      8\u001B[0m \u001B[0;31m# image_grid = Image.fromarray(output_grid)\u001B[0m\u001B[0;34m\u001B[0m\u001B[0;34m\u001B[0m\u001B[0;34m\u001B[0m\u001B[0m\n",
      "\u001B[0;32m/usr/local/lib/python3.8/dist-packages/PIL/Image.py\u001B[0m in \u001B[0;36mopen\u001B[0;34m(fp, mode)\u001B[0m\n\u001B[1;32m   2841\u001B[0m \u001B[0;34m\u001B[0m\u001B[0m\n\u001B[1;32m   2842\u001B[0m     \u001B[0;32mif\u001B[0m \u001B[0mfilename\u001B[0m\u001B[0;34m:\u001B[0m\u001B[0;34m\u001B[0m\u001B[0;34m\u001B[0m\u001B[0m\n\u001B[0;32m-> 2843\u001B[0;31m         \u001B[0mfp\u001B[0m \u001B[0;34m=\u001B[0m \u001B[0mbuiltins\u001B[0m\u001B[0;34m.\u001B[0m\u001B[0mopen\u001B[0m\u001B[0;34m(\u001B[0m\u001B[0mfilename\u001B[0m\u001B[0;34m,\u001B[0m \u001B[0;34m\"rb\"\u001B[0m\u001B[0;34m)\u001B[0m\u001B[0;34m\u001B[0m\u001B[0;34m\u001B[0m\u001B[0m\n\u001B[0m\u001B[1;32m   2844\u001B[0m         \u001B[0mexclusive_fp\u001B[0m \u001B[0;34m=\u001B[0m \u001B[0;32mTrue\u001B[0m\u001B[0;34m\u001B[0m\u001B[0;34m\u001B[0m\u001B[0m\n\u001B[1;32m   2845\u001B[0m \u001B[0;34m\u001B[0m\u001B[0m\n",
      "\u001B[0;31mFileNotFoundError\u001B[0m: [Errno 2] No such file or directory: 'results/test/try-on/img_1671269484.png'"
     ]
    }
   ]
  },
  {
   "cell_type": "code",
   "source": [
    "a"
   ],
   "metadata": {
    "colab": {
     "base_uri": "https://localhost:8080/"
    },
    "id": "YN-4kX_SLCve",
    "outputId": "30632716-fb6c-4b6d-918f-dbcb1955ff24",
    "pycharm": {
     "name": "#%%\n"
    }
   },
   "execution_count": 37,
   "outputs": [
    {
     "output_type": "execute_result",
     "data": {
      "text/plain": [
       "array([[[195, 197, 186, 255],\n",
       "        [157, 159, 148, 255],\n",
       "        [163, 164, 156, 255],\n",
       "        ...,\n",
       "        [161, 162, 156, 255],\n",
       "        [161, 162, 156, 255],\n",
       "        [162, 163, 157, 255]],\n",
       "\n",
       "       [[189, 191, 179, 255],\n",
       "        [151, 153, 143, 255],\n",
       "        [156, 157, 149, 255],\n",
       "        ...,\n",
       "        [162, 163, 157, 255],\n",
       "        [161, 162, 156, 255],\n",
       "        [161, 162, 156, 255]],\n",
       "\n",
       "       [[181, 183, 171, 255],\n",
       "        [145, 147, 136, 255],\n",
       "        [146, 147, 138, 255],\n",
       "        ...,\n",
       "        [162, 163, 156, 255],\n",
       "        [161, 162, 156, 255],\n",
       "        [161, 162, 155, 255]],\n",
       "\n",
       "       ...,\n",
       "\n",
       "       [[108, 108, 104, 255],\n",
       "        [119, 119, 117, 255],\n",
       "        [151, 152, 147, 255],\n",
       "        ...,\n",
       "        [158, 160, 155, 255],\n",
       "        [158, 160, 155, 255],\n",
       "        [157, 160, 154, 255]],\n",
       "\n",
       "       [[108, 108, 105, 255],\n",
       "        [119, 119, 117, 255],\n",
       "        [150, 151, 146, 255],\n",
       "        ...,\n",
       "        [157, 159, 154, 255],\n",
       "        [156, 159, 154, 255],\n",
       "        [156, 159, 154, 255]],\n",
       "\n",
       "       [[108, 108, 104, 255],\n",
       "        [117, 118, 115, 255],\n",
       "        [150, 151, 145, 255],\n",
       "        ...,\n",
       "        [156, 158, 153, 255],\n",
       "        [156, 159, 154, 255],\n",
       "        [154, 157, 152, 255]]], dtype=uint8)"
      ]
     },
     "metadata": {},
     "execution_count": 37
    }
   ]
  },
  {
   "cell_type": "code",
   "source": [
    "b"
   ],
   "metadata": {
    "colab": {
     "base_uri": "https://localhost:8080/"
    },
    "id": "diA9FRwELFQT",
    "outputId": "52bf7810-b404-4ec9-8717-1c98bd240f36",
    "pycharm": {
     "name": "#%%\n"
    }
   },
   "execution_count": 38,
   "outputs": [
    {
     "output_type": "execute_result",
     "data": {
      "text/plain": [
       "array([[[255, 255, 255],\n",
       "        [255, 255, 255],\n",
       "        [255, 255, 255],\n",
       "        ...,\n",
       "        [255, 255, 255],\n",
       "        [255, 255, 255],\n",
       "        [255, 255, 255]],\n",
       "\n",
       "       [[255, 255, 255],\n",
       "        [255, 255, 255],\n",
       "        [255, 255, 255],\n",
       "        ...,\n",
       "        [255, 255, 255],\n",
       "        [255, 255, 255],\n",
       "        [255, 255, 255]],\n",
       "\n",
       "       [[255, 255, 255],\n",
       "        [255, 255, 255],\n",
       "        [255, 255, 255],\n",
       "        ...,\n",
       "        [255, 255, 255],\n",
       "        [255, 255, 255],\n",
       "        [255, 255, 255]],\n",
       "\n",
       "       ...,\n",
       "\n",
       "       [[255, 255, 255],\n",
       "        [255, 255, 255],\n",
       "        [255, 255, 255],\n",
       "        ...,\n",
       "        [255, 255, 255],\n",
       "        [255, 255, 255],\n",
       "        [255, 255, 255]],\n",
       "\n",
       "       [[255, 255, 255],\n",
       "        [255, 255, 255],\n",
       "        [255, 255, 255],\n",
       "        ...,\n",
       "        [255, 255, 255],\n",
       "        [255, 255, 255],\n",
       "        [255, 255, 255]],\n",
       "\n",
       "       [[255, 255, 255],\n",
       "        [255, 255, 255],\n",
       "        [255, 255, 255],\n",
       "        ...,\n",
       "        [255, 255, 255],\n",
       "        [255, 255, 255],\n",
       "        [255, 255, 255]]], dtype=uint8)"
      ]
     },
     "metadata": {},
     "execution_count": 38
    }
   ]
  },
  {
   "cell_type": "code",
   "source": [
    "np.delete(c,0)"
   ],
   "metadata": {
    "colab": {
     "base_uri": "https://localhost:8080/"
    },
    "id": "y0xEiA--LJ8l",
    "outputId": "2100a727-442d-421d-f4b6-ce16b58cc4a6",
    "pycharm": {
     "name": "#%%\n"
    }
   },
   "execution_count": 41,
   "outputs": [
    {
     "output_type": "execute_result",
     "data": {
      "text/plain": [
       "array([242, 243, 247, ..., 237, 234, 233], dtype=uint8)"
      ]
     },
     "metadata": {},
     "execution_count": 41
    }
   ]
  },
  {
   "cell_type": "code",
   "source": [
    "output_grid = np.concatenate((a, b,c))\n",
    "image_grid = Image.fromarray(output_grid)\n",
    "image_grid"
   ],
   "metadata": {
    "colab": {
     "base_uri": "https://localhost:8080/",
     "height": 785
    },
    "id": "KvoqcdNoJ6EX",
    "outputId": "a827cce8-1ac6-4a6c-da51-cd50ffe0c993",
    "pycharm": {
     "name": "#%%\n",
     "is_executing": true
    }
   },
   "execution_count": null,
   "outputs": []
  },
  {
   "cell_type": "code",
   "source": [],
   "metadata": {
    "id": "A6C5JI_OLQfn",
    "pycharm": {
     "name": "#%%\n"
    }
   },
   "execution_count": null,
   "outputs": []
  }
 ]
}